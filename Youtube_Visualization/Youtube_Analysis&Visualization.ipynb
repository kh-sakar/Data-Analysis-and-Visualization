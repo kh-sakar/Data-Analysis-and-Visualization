{
 "cells": [
  {
   "cell_type": "code",
   "execution_count": 1,
   "id": "d9c6598a-1054-4b4c-a773-1a0a48226883",
   "metadata": {},
   "outputs": [],
   "source": [
    "from googleapiclient.discovery import build\n",
    "import pandas as pd\n",
    "import seaborn as sns\n",
    "\n"
   ]
  },
  {
   "cell_type": "code",
   "execution_count": 2,
   "id": "851bbdbf-e577-4b57-a050-8986d2bb65ef",
   "metadata": {},
   "outputs": [],
   "source": [
    "channel_ids = [\n",
    "               'UC0C-w0YjGpqDXGB8IHb662A',\n",
    "               'UCtxD0x6AuNNqdXO9Wp5GHew',\n",
    "               'UC9CoOnJkIBMdeijd9qYoT_g',\n",
    "               'UCqECaJ8Gagnn7YCbPEzWH6g'\n",
    "              ]\n",
    "\n",
    "youtube = build('youtube', 'v3', developerKey='')\n"
   ]
  },
  {
   "cell_type": "markdown",
   "id": "416b0389-e4f0-4326-8bb6-f9645a37a2a6",
   "metadata": {},
   "source": [
    "Function to get Youtube Channel stats"
   ]
  },
  {
   "cell_type": "code",
   "execution_count": 3,
   "id": "dc7f0bfb-a52d-430a-bec0-0c987665eba4",
   "metadata": {},
   "outputs": [],
   "source": [
    "def get_channel_stats(youtube, channel_ids):\n",
    "    all_data = []\n",
    "    request = youtube.channels().list(\n",
    "        part='snippet,contentDetails,statistics', id=','.join(channel_ids))\n",
    "    response = request.execute()\n",
    "    \n",
    "    \n",
    "    for i in range(len(response['items'])):\n",
    "        data = {\n",
    "            'Channel_name': response['items'][i]['snippet']['title'],\n",
    "            'Subscribers': response['items'][i]['statistics']['subscriberCount'],\n",
    "            'Views': response['items'][i]['statistics']['viewCount'],\n",
    "            'Videos': response['items'][i]['statistics']['videoCount'],\n",
    "            'Playlists':response['items'][i]['contentDetails']['relatedPlaylists']['uploads']\n",
    "        }\n",
    "        all_data.append(data)\n",
    "    \n",
    "    \n",
    "    return all_data"
   ]
  },
  {
   "cell_type": "code",
   "execution_count": 4,
   "id": "cdd9b880-88aa-4045-a53a-7b42a97166c6",
   "metadata": {},
   "outputs": [],
   "source": [
    "channel_statistics = get_channel_stats(youtube,channel_ids)"
   ]
  },
  {
   "cell_type": "code",
   "execution_count": 5,
   "id": "c14db2ff-d91c-4886-b7e9-5d5452e5849b",
   "metadata": {},
   "outputs": [],
   "source": [
    "channel_data = pd.DataFrame(channel_statistics)"
   ]
  },
  {
   "cell_type": "code",
   "execution_count": 6,
   "id": "d1d2b69c-ba86-4dc5-b766-4b7a0d1f4243",
   "metadata": {},
   "outputs": [
    {
     "data": {
      "text/html": [
       "<div>\n",
       "<style scoped>\n",
       "    .dataframe tbody tr th:only-of-type {\n",
       "        vertical-align: middle;\n",
       "    }\n",
       "\n",
       "    .dataframe tbody tr th {\n",
       "        vertical-align: top;\n",
       "    }\n",
       "\n",
       "    .dataframe thead th {\n",
       "        text-align: right;\n",
       "    }\n",
       "</style>\n",
       "<table border=\"1\" class=\"dataframe\">\n",
       "  <thead>\n",
       "    <tr style=\"text-align: right;\">\n",
       "      <th></th>\n",
       "      <th>Channel_name</th>\n",
       "      <th>Subscribers</th>\n",
       "      <th>Views</th>\n",
       "      <th>Videos</th>\n",
       "      <th>Playlists</th>\n",
       "    </tr>\n",
       "  </thead>\n",
       "  <tbody>\n",
       "    <tr>\n",
       "      <th>0</th>\n",
       "      <td>Ariana Grande</td>\n",
       "      <td>54600000</td>\n",
       "      <td>26748920529</td>\n",
       "      <td>202</td>\n",
       "      <td>UU9CoOnJkIBMdeijd9qYoT_g</td>\n",
       "    </tr>\n",
       "    <tr>\n",
       "      <th>1</th>\n",
       "      <td>Taylor Swift</td>\n",
       "      <td>59900000</td>\n",
       "      <td>36540766165</td>\n",
       "      <td>273</td>\n",
       "      <td>UUqECaJ8Gagnn7YCbPEzWH6g</td>\n",
       "    </tr>\n",
       "    <tr>\n",
       "      <th>2</th>\n",
       "      <td>Ed Sheeran</td>\n",
       "      <td>55000000</td>\n",
       "      <td>32763135057</td>\n",
       "      <td>519</td>\n",
       "      <td>UU0C-w0YjGpqDXGB8IHb662A</td>\n",
       "    </tr>\n",
       "    <tr>\n",
       "      <th>3</th>\n",
       "      <td>UR · Cristiano</td>\n",
       "      <td>57500000</td>\n",
       "      <td>396835390</td>\n",
       "      <td>30</td>\n",
       "      <td>UUtxD0x6AuNNqdXO9Wp5GHew</td>\n",
       "    </tr>\n",
       "  </tbody>\n",
       "</table>\n",
       "</div>"
      ],
      "text/plain": [
       "     Channel_name Subscribers        Views Videos                 Playlists\n",
       "0   Ariana Grande    54600000  26748920529    202  UU9CoOnJkIBMdeijd9qYoT_g\n",
       "1    Taylor Swift    59900000  36540766165    273  UUqECaJ8Gagnn7YCbPEzWH6g\n",
       "2      Ed Sheeran    55000000  32763135057    519  UU0C-w0YjGpqDXGB8IHb662A\n",
       "3  UR · Cristiano    57500000    396835390     30  UUtxD0x6AuNNqdXO9Wp5GHew"
      ]
     },
     "execution_count": 6,
     "metadata": {},
     "output_type": "execute_result"
    }
   ],
   "source": [
    "channel_data"
   ]
  },
  {
   "cell_type": "code",
   "execution_count": 7,
   "id": "43dca1ab-92cf-4b78-9867-a0c226c16e48",
   "metadata": {},
   "outputs": [
    {
     "data": {
      "text/plain": [
       "Channel_name    object\n",
       "Subscribers      int64\n",
       "Views            int64\n",
       "Videos           int64\n",
       "Playlists       object\n",
       "dtype: object"
      ]
     },
     "execution_count": 7,
     "metadata": {},
     "output_type": "execute_result"
    }
   ],
   "source": [
    "channel_data['Subscribers'] = pd.to_numeric(channel_data['Subscribers'])\n",
    "channel_data['Views'] = pd.to_numeric(channel_data['Views'])\n",
    "channel_data['Videos'] = pd.to_numeric(channel_data['Videos'])\n",
    "channel_data.dtypes\n"
   ]
  },
  {
   "cell_type": "markdown",
   "id": "d724b7a6-0055-4832-aa06-c569002ff5a1",
   "metadata": {},
   "source": [
    "Comparing the subscribers of UR Cristiano with other channels"
   ]
  },
  {
   "cell_type": "code",
   "execution_count": 8,
   "id": "f105f10a-73f1-4f00-a29f-3eea1412da8e",
   "metadata": {},
   "outputs": [
    {
     "data": {
      "image/png": "[encoded data removed]",
      "text/plain": [
       "<Figure size 1200x900 with 1 Axes>"
      ]
     },
     "metadata": {},
     "output_type": "display_data"
    }
   ],
   "source": [
    "sns.set(rc={'figure.figsize':(12,9)})\n",
    "colors = ['#FFFF00', '#FF0000', '#FFA500', '#808080']\n",
    "ax = sns.barplot(x='Channel_name',y='Subscribers', data=channel_data, hue='Channel_name', palette=colors, legend=False)\n",
    "ax.ticklabel_format(style='plain', axis='y')"
   ]
  },
  {
   "cell_type": "markdown",
   "id": "483698fb-daff-4c2d-8e37-c1db6fc9f09c",
   "metadata": {},
   "source": [
    "Comparing the Views of UR Cristiano with other channels"
   ]
  },
  {
   "cell_type": "code",
   "execution_count": 9,
   "id": "102debc8-3303-4afc-bccc-6ae60cc31e90",
   "metadata": {},
   "outputs": [
    {
     "data": {
      "image/png": "[encoded data removed]",
      "text/plain": [
       "<Figure size 1200x900 with 1 Axes>"
      ]
     },
     "metadata": {},
     "output_type": "display_data"
    }
   ],
   "source": [
    "sns.set(rc={'figure.figsize':(12,9)})\n",
    "colors = ['#FFFF00', '#FF0000', '#FFA500', '#808080']\n",
    "ax = sns.barplot(x='Channel_name',y='Views', data=channel_data, hue='Channel_name', palette=colors, legend=False)\n",
    "ax.ticklabel_format(style='plain', axis='y')"
   ]
  },
  {
   "cell_type": "code",
   "execution_count": 10,
   "id": "b26b9f7c-a923-4fad-b25e-8d3eb516f2c6",
   "metadata": {},
   "outputs": [],
   "source": [
    "playlist = channel_data.loc[channel_data['Channel_name']=='UR · Cristiano', 'Playlists'].iloc[0]"
   ]
  },
  {
   "cell_type": "markdown",
   "id": "a7988365-bae3-4d1b-a20a-f0ac89e00cd6",
   "metadata": {},
   "source": [
    "Function to get Video IDs"
   ]
  },
  {
   "cell_type": "code",
   "execution_count": 11,
   "id": "3470bdef-87b1-4a23-abf2-2b20ae086d50",
   "metadata": {},
   "outputs": [],
   "source": [
    "def get_video_ids(youtube, playlist):\n",
    "    \n",
    "    request = youtube.playlistItems().list(\n",
    "                part='contentDetails',\n",
    "                playlistId = playlist,\n",
    "                maxResults = 15)\n",
    "    response = request.execute()\n",
    "    \n",
    "    video_ids = []\n",
    "    \n",
    "    for i in range(len(response['items'])):\n",
    "        video_ids.append(response['items'][i]['contentDetails']['videoId'])\n",
    "        \n",
    "    next_page_token = response.get('nextPageToken')\n",
    "    more_pages = True\n",
    "    \n",
    "    while more_pages:\n",
    "        if next_page_token is None:\n",
    "            more_pages = False\n",
    "        else:\n",
    "            request = youtube.playlistItems().list(\n",
    "                        part='contentDetails',\n",
    "                        playlistId = playlist,\n",
    "                        maxResults = 15,\n",
    "                        pageToken = next_page_token)\n",
    "            response = request.execute()\n",
    "    \n",
    "            for i in range(len(response['items'])):\n",
    "                video_ids.append(response['items'][i]['contentDetails']['videoId'])\n",
    "            \n",
    "            next_page_token = response.get('nextPageToken')\n",
    "        \n",
    "    return video_ids"
   ]
  },
  {
   "cell_type": "code",
   "execution_count": 12,
   "id": "438b8926-6a38-40d6-b590-3ea8084eede7",
   "metadata": {},
   "outputs": [],
   "source": [
    "video_ids = get_video_ids(youtube, playlist)"
   ]
  },
  {
   "cell_type": "code",
   "execution_count": 13,
   "id": "f1097ad4-f308-488a-aa0e-6ab742df2303",
   "metadata": {},
   "outputs": [
    {
     "data": {
      "text/plain": [
       "['etps-RdsTz0',\n",
       " 'e9CkkiPCo30',\n",
       " 'zuRujkxTv2Y',\n",
       " '55U2mLxARC4',\n",
       " 'i0GnOGG5Q-Y',\n",
       " 'C850U295CX4',\n",
       " 'eh0kXm62W9A',\n",
       " 'M8KHrlhDNIY',\n",
       " 'TFtR0HLJluc',\n",
       " 'tizVemSwwmc',\n",
       " '7JZPEeZFjKw',\n",
       " 'PbgUg_aBHf4',\n",
       " 'HQ8gIrd4Gyo',\n",
       " 'I74FAkaL1Fk',\n",
       " '6huYOWoyY0g',\n",
       " 'ZkuaJYurYHw',\n",
       " 'E9WcwprYcSw',\n",
       " '2aAH-B3hGaQ',\n",
       " 's0QxGOHjhFI',\n",
       " 'Xa53WiSFxMw',\n",
       " '-vwNPsvZ0Sc',\n",
       " '35S7zTBFRhQ',\n",
       " 'GqYpn_s1Hjg',\n",
       " 'hKR57pX7-fY',\n",
       " '6BnBh01LOgA',\n",
       " 'ORc2270vgqs',\n",
       " 'eWFxXJf5D_M',\n",
       " 'QdtDGyc3818',\n",
       " 'DhFZd3dlOQI',\n",
       " 'jeDKsg8r3ew']"
      ]
     },
     "execution_count": 13,
     "metadata": {},
     "output_type": "execute_result"
    }
   ],
   "source": [
    "video_ids"
   ]
  },
  {
   "cell_type": "markdown",
   "id": "4de1c85c-ec67-4309-9d2c-0748fa19509f",
   "metadata": {},
   "source": [
    "Function to get Video Details"
   ]
  },
  {
   "cell_type": "code",
   "execution_count": 14,
   "id": "527d7b1b-721a-4ae7-9e7a-9c3af3422715",
   "metadata": {},
   "outputs": [],
   "source": [
    "def get_video_details(youtube, video_ids):\n",
    "    all_video_stats = []\n",
    "    \n",
    "    for i in range(0, len(video_ids), 15):  \n",
    "        request = youtube.videos().list(\n",
    "            part='snippet,statistics',\n",
    "            id=','.join(video_ids[i:i+15])\n",
    "        )\n",
    "        response = request.execute()\n",
    "\n",
    "        for video in response['items']:\n",
    "            video_stats = {\n",
    "                'Title': video['snippet']['title'],\n",
    "                'Published_date': video['snippet']['publishedAt'],\n",
    "                'Views': video['statistics'].get('viewCount', 'N/A'),\n",
    "                'Likes': video['statistics'].get('likeCount', 'N/A'),\n",
    "                'Comments': video['statistics'].get('commentCount', 'N/A')\n",
    "            }\n",
    "            all_video_stats.append(video_stats)\n",
    "    \n",
    "    return all_video_stats\n"
   ]
  },
  {
   "cell_type": "code",
   "execution_count": 15,
   "id": "a098ec53-5cd6-48c4-a8d4-66fce0676d64",
   "metadata": {},
   "outputs": [],
   "source": [
    "video_details = get_video_details(youtube, video_ids)"
   ]
  },
  {
   "cell_type": "code",
   "execution_count": 16,
   "id": "31e78a43-2838-43f0-8cc8-d46393aecb0f",
   "metadata": {},
   "outputs": [
    {
     "data": {
      "text/plain": [
       "[{'Title': 'Cristiano Ronaldo diciendo \"Qué mirás bobo\"!',\n",
       "  'Published_date': '2024-09-04T12:48:36Z',\n",
       "  'Views': '1175860',\n",
       "  'Likes': '230122',\n",
       "  'Comments': '9161'},\n",
       " {'Title': 'Soy Georgina Temporada 3... ¡con Cristiano!',\n",
       "  'Published_date': '2024-09-04T11:35:35Z',\n",
       "  'Views': '599148',\n",
       "  'Likes': '119427',\n",
       "  'Comments': '4014'},\n",
       " {'Title': 'Las 7 preguntas que siempre quise hacerle a Georgina',\n",
       "  'Published_date': '2024-09-03T13:01:08Z',\n",
       "  'Views': '5149608',\n",
       "  'Likes': '709369',\n",
       "  'Comments': '30088'},\n",
       " {'Title': 'The real reason why I cried in Euro 24',\n",
       "  'Published_date': '2024-09-01T13:00:04Z',\n",
       "  'Views': '5385101',\n",
       "  'Likes': '683258',\n",
       "  'Comments': '43961'},\n",
       " {'Title': 'MY GOAL: 1000 GOALS',\n",
       "  'Published_date': '2024-08-31T13:00:51Z',\n",
       "  'Views': '6122662',\n",
       "  'Likes': '788599',\n",
       "  'Comments': '44135'},\n",
       " {'Title': 'A day in the life of Cristiano Ronaldo (Champions League Award Edition)',\n",
       "  'Published_date': '2024-08-30T11:34:18Z',\n",
       "  'Views': '6674803',\n",
       "  'Likes': '892634',\n",
       "  'Comments': '51758'},\n",
       " {'Title': 'I receive THE BIGGEST AWARD of the Champions League',\n",
       "  'Published_date': '2024-08-29T20:07:23Z',\n",
       "  'Views': '5380122',\n",
       "  'Likes': '972528',\n",
       "  'Comments': '54408'},\n",
       " {'Title': 'My thoughts on my 2023/24 season and the truth about my future. Talk with my friend Rio (PART 1)',\n",
       "  'Published_date': '2024-08-28T13:00:08Z',\n",
       "  'Views': '15108564',\n",
       "  'Likes': '1750583',\n",
       "  'Comments': '102511'},\n",
       " {'Title': '899 goals... ¡Cositas!',\n",
       "  'Published_date': '2024-08-27T20:06:57Z',\n",
       "  'Views': '6665460',\n",
       "  'Likes': '1021479',\n",
       "  'Comments': '46796'},\n",
       " {'Title': 'Georgina CALIFICA mis outfits de los últimos 20 años...¡No creerás cuál es su favorito!',\n",
       "  'Published_date': '2024-08-26T13:03:25Z',\n",
       "  'Views': '20119321',\n",
       "  'Likes': '2258990',\n",
       "  'Comments': '122233'},\n",
       " {'Title': '“Bernabéu… pressure… 90,000” 🔥🔥🔥',\n",
       "  'Published_date': '2024-08-24T13:39:48Z',\n",
       "  'Views': '19145827',\n",
       "  'Likes': '2386779',\n",
       "  'Comments': '174088'},\n",
       " {'Title': 'The golden button… for my golden kids',\n",
       "  'Published_date': '2024-08-21T21:54:33Z',\n",
       "  'Views': '48994458',\n",
       "  'Likes': '4318276',\n",
       "  'Comments': '243978'},\n",
       " {'Title': 'This is how I felt when I discovered paradise… 🌊 THE RED SEA Project, Saudi',\n",
       "  'Published_date': '2024-08-21T13:38:17Z',\n",
       "  'Views': '11880767',\n",
       "  'Likes': '1282010',\n",
       "  'Comments': '65171'},\n",
       " {'Title': 'Descúbrelo TODO sobre nosotros. ¿Quién ganará?',\n",
       "  'Published_date': '2024-08-21T13:12:46Z',\n",
       "  'Views': '43523746',\n",
       "  'Likes': '3716740',\n",
       "  'Comments': '202526'},\n",
       " {'Title': 'Welcome to my new YouTube Channel!!',\n",
       "  'Published_date': '2024-08-21T13:12:11Z',\n",
       "  'Views': '28499928',\n",
       "  'Likes': '4312479',\n",
       "  'Comments': '153707'},\n",
       " {'Title': \"It's ready! Cristiano REVEALS his new project to the entire world! 🔥\",\n",
       "  'Published_date': '2024-08-21T13:12:04Z',\n",
       "  'Views': '16255573',\n",
       "  'Likes': '2935571',\n",
       "  'Comments': '96384'},\n",
       " {'Title': 'This is how I overcome adversity 💪',\n",
       "  'Published_date': '2024-08-21T13:11:59Z',\n",
       "  'Views': '6625540',\n",
       "  'Likes': '1887212',\n",
       "  'Comments': '31536'},\n",
       " {'Title': 'Cristiano riding free! 🚴\\u200d♂️',\n",
       "  'Published_date': '2024-08-21T13:11:52Z',\n",
       "  'Views': '9005620',\n",
       "  'Likes': '2201068',\n",
       "  'Comments': '34165'},\n",
       " {'Title': '¿Georgina sabe cuál es mi color favorito?',\n",
       "  'Published_date': '2024-08-21T13:11:39Z',\n",
       "  'Views': '8603751',\n",
       "  'Likes': '1663802',\n",
       "  'Comments': '24854'},\n",
       " {'Title': '👀',\n",
       "  'Published_date': '2024-08-21T13:11:33Z',\n",
       "  'Views': '12003031',\n",
       "  'Likes': '2256256',\n",
       "  'Comments': '47032'},\n",
       " {'Title': '¡Cristiano Ronaldo te da la bienvenida a UR Cristiano!',\n",
       "  'Published_date': '2024-08-21T13:11:26Z',\n",
       "  'Views': '9232391',\n",
       "  'Likes': '1714366',\n",
       "  'Comments': '36594'},\n",
       " {'Title': 'Are you ready to discover my new channel?',\n",
       "  'Published_date': '2024-08-21T13:01:09Z',\n",
       "  'Views': '18364110',\n",
       "  'Likes': '1671456',\n",
       "  'Comments': '66974'},\n",
       " {'Title': 'Nadal or Djokovic? Box or UFC? NBA or NFL? These are my passions!',\n",
       "  'Published_date': '2024-08-21T13:01:04Z',\n",
       "  'Views': '8148395',\n",
       "  'Likes': '866121',\n",
       "  'Comments': '24369'},\n",
       " {'Title': 'This is how I manage the pressure of being Cristiano',\n",
       "  'Published_date': '2024-08-21T13:00:58Z',\n",
       "  'Views': '6586686',\n",
       "  'Likes': '970851',\n",
       "  'Comments': '27196'},\n",
       " {'Title': '\"Conocerás a los verdaderos Cristiano y Georgina\"',\n",
       "  'Published_date': '2024-08-21T13:00:53Z',\n",
       "  'Views': '7143728',\n",
       "  'Likes': '653784',\n",
       "  'Comments': '16898'},\n",
       " {'Title': 'Georgina y yo te contamos de qué trata #UR Cristiano',\n",
       "  'Published_date': '2024-08-21T13:00:48Z',\n",
       "  'Views': '15028943',\n",
       "  'Likes': '1713580',\n",
       "  'Comments': '99209'},\n",
       " {'Title': 'I rate my best Euro goals… with the SIUUUMETER',\n",
       "  'Published_date': '2024-08-21T13:00:29Z',\n",
       "  'Views': '8068196',\n",
       "  'Likes': '789819',\n",
       "  'Comments': '23692'},\n",
       " {'Title': 'Cristiano Jr. dares to challenge me… with a freekick!',\n",
       "  'Published_date': '2024-08-21T13:00:20Z',\n",
       "  'Views': '11322653',\n",
       "  'Likes': '1073101',\n",
       "  'Comments': '18620'},\n",
       " {'Title': 'This is how I overcome adversity 💪',\n",
       "  'Published_date': '2024-08-21T13:00:14Z',\n",
       "  'Views': '5864964',\n",
       "  'Likes': '710956',\n",
       "  'Comments': '16506'},\n",
       " {'Title': 'When I met the most famous Cristiano',\n",
       "  'Published_date': '2024-08-21T13:00:06Z',\n",
       "  'Views': '34635596',\n",
       "  'Likes': '2770711',\n",
       "  'Comments': '122149'}]"
      ]
     },
     "execution_count": 16,
     "metadata": {},
     "output_type": "execute_result"
    }
   ],
   "source": [
    "video_details"
   ]
  },
  {
   "cell_type": "code",
   "execution_count": 17,
   "id": "25f08bf2-b69d-4fe3-a866-49190dfc9bbb",
   "metadata": {},
   "outputs": [],
   "source": [
    "video_detail = pd.DataFrame(video_details)"
   ]
  },
  {
   "cell_type": "code",
   "execution_count": 18,
   "id": "efa4a5f7-02f4-48d1-9a75-ef0e3599c4be",
   "metadata": {},
   "outputs": [],
   "source": [
    "video_detail['Published_date'] = pd.to_datetime(video_detail['Published_date']).dt.date\n",
    "video_detail['Views'] = pd.to_numeric(video_detail['Views'], errors='coerce')\n",
    "video_detail['Likes'] = pd.to_numeric(video_detail['Likes'], errors='coerce')\n",
    "video_detail['Comments'] = pd.to_numeric(video_detail['Comments'], errors='coerce')\n",
    "\n"
   ]
  },
  {
   "cell_type": "code",
   "execution_count": 19,
   "id": "989bfd37-d0fe-461e-bfdc-0a7a7c835783",
   "metadata": {},
   "outputs": [],
   "source": [
    "top5_videos = video_detail.sort_values(by='Comments', ascending=False).head(5)"
   ]
  },
  {
   "cell_type": "code",
   "execution_count": 20,
   "id": "aed7ed56-ac6f-46b9-8433-77ab1406f762",
   "metadata": {},
   "outputs": [
    {
     "data": {
      "text/html": [
       "<div>\n",
       "<style scoped>\n",
       "    .dataframe tbody tr th:only-of-type {\n",
       "        vertical-align: middle;\n",
       "    }\n",
       "\n",
       "    .dataframe tbody tr th {\n",
       "        vertical-align: top;\n",
       "    }\n",
       "\n",
       "    .dataframe thead th {\n",
       "        text-align: right;\n",
       "    }\n",
       "</style>\n",
       "<table border=\"1\" class=\"dataframe\">\n",
       "  <thead>\n",
       "    <tr style=\"text-align: right;\">\n",
       "      <th></th>\n",
       "      <th>Title</th>\n",
       "      <th>Published_date</th>\n",
       "      <th>Views</th>\n",
       "      <th>Likes</th>\n",
       "      <th>Comments</th>\n",
       "    </tr>\n",
       "  </thead>\n",
       "  <tbody>\n",
       "    <tr>\n",
       "      <th>11</th>\n",
       "      <td>The golden button… for my golden kids</td>\n",
       "      <td>2024-08-21</td>\n",
       "      <td>48994458</td>\n",
       "      <td>4318276</td>\n",
       "      <td>243978</td>\n",
       "    </tr>\n",
       "    <tr>\n",
       "      <th>13</th>\n",
       "      <td>Descúbrelo TODO sobre nosotros. ¿Quién ganará?</td>\n",
       "      <td>2024-08-21</td>\n",
       "      <td>43523746</td>\n",
       "      <td>3716740</td>\n",
       "      <td>202526</td>\n",
       "    </tr>\n",
       "    <tr>\n",
       "      <th>10</th>\n",
       "      <td>“Bernabéu… pressure… 90,000” 🔥🔥🔥</td>\n",
       "      <td>2024-08-24</td>\n",
       "      <td>19145827</td>\n",
       "      <td>2386779</td>\n",
       "      <td>174088</td>\n",
       "    </tr>\n",
       "    <tr>\n",
       "      <th>14</th>\n",
       "      <td>Welcome to my new YouTube Channel!!</td>\n",
       "      <td>2024-08-21</td>\n",
       "      <td>28499928</td>\n",
       "      <td>4312479</td>\n",
       "      <td>153707</td>\n",
       "    </tr>\n",
       "    <tr>\n",
       "      <th>9</th>\n",
       "      <td>Georgina CALIFICA mis outfits de los últimos 2...</td>\n",
       "      <td>2024-08-26</td>\n",
       "      <td>20119321</td>\n",
       "      <td>2258990</td>\n",
       "      <td>122233</td>\n",
       "    </tr>\n",
       "  </tbody>\n",
       "</table>\n",
       "</div>"
      ],
      "text/plain": [
       "                                                Title Published_date  \\\n",
       "11              The golden button… for my golden kids     2024-08-21   \n",
       "13     Descúbrelo TODO sobre nosotros. ¿Quién ganará?     2024-08-21   \n",
       "10                   “Bernabéu… pressure… 90,000” 🔥🔥🔥     2024-08-24   \n",
       "14                Welcome to my new YouTube Channel!!     2024-08-21   \n",
       "9   Georgina CALIFICA mis outfits de los últimos 2...     2024-08-26   \n",
       "\n",
       "       Views    Likes  Comments  \n",
       "11  48994458  4318276    243978  \n",
       "13  43523746  3716740    202526  \n",
       "10  19145827  2386779    174088  \n",
       "14  28499928  4312479    153707  \n",
       "9   20119321  2258990    122233  "
      ]
     },
     "execution_count": 20,
     "metadata": {},
     "output_type": "execute_result"
    }
   ],
   "source": [
    "top5_videos"
   ]
  },
  {
   "cell_type": "markdown",
   "id": "d65206b7-2834-46de-b183-2dd5edca38b3",
   "metadata": {},
   "source": [
    "Visualization of the Top 5 commented videos of UR Cristiano"
   ]
  },
  {
   "cell_type": "code",
   "execution_count": 21,
   "id": "3d534fde-44e7-4928-b40e-0c265ebe088c",
   "metadata": {},
   "outputs": [
    {
     "data": {
      "image/png": "[encoded data removed]",
      "text/plain": [
       "<Figure size 1200x900 with 1 Axes>"
      ]
     },
     "metadata": {},
     "output_type": "display_data"
    }
   ],
   "source": [
    "colors = ['#FFFF00', '#FF0000', '#FFA500', '#808080', '#0000FF']\n",
    "sns.set(font='Arial')\n",
    "ax1 = sns.barplot(x='Comments', y='Title', data=top5_videos, hue='Title', palette=colors, legend=False)\n"
   ]
  }
 ],
 "metadata": {
  "kernelspec": {
   "display_name": "Youtube",
   "language": "python",
   "name": "youtube"
  },
  "language_info": {
   "codemirror_mode": {
    "name": "ipython",
    "version": 3
   },
   "file_extension": ".py",
   "mimetype": "text/x-python",
   "name": "python",
   "nbconvert_exporter": "python",
   "pygments_lexer": "ipython3",
   "version": "3.10.14"
  }
 },
 "nbformat": 4,
 "nbformat_minor": 5
}
